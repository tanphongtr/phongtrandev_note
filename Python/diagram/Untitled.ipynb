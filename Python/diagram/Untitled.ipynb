{
 "cells": [
  {
   "cell_type": "code",
   "execution_count": 1,
   "id": "284bf602-c26d-4156-ae91-733481c7819e",
   "metadata": {
    "tags": []
   },
   "outputs": [],
   "source": [
    "# diagram.py\n",
    "from diagrams import Diagram\n",
    "from diagrams.aws.compute import EC2\n",
    "from diagrams.aws.database import RDS\n",
    "from diagrams.aws.network import ELB\n",
    "\n",
    "with Diagram(\"Web Service\", show=False):\n",
    "    ELB(\"lb\") >> EC2(\"web\") >> RDS(\"userdb\")\n",
    "\n"
   ]
  },
  {
   "attachments": {},
   "cell_type": "markdown",
   "id": "5373ad9b",
   "metadata": {},
   "source": []
  },
  {
   "cell_type": "code",
   "execution_count": null,
   "id": "fbc9ce7d-085c-45bb-9fea-4b8052ffa214",
   "metadata": {},
   "outputs": [],
   "source": []
  }
 ],
 "metadata": {
  "kernelspec": {
   "display_name": "Python 3 (ipykernel)",
   "language": "python",
   "name": "python3"
  },
  "language_info": {
   "codemirror_mode": {
    "name": "ipython",
    "version": 3
   },
   "file_extension": ".py",
   "mimetype": "text/x-python",
   "name": "python",
   "nbconvert_exporter": "python",
   "pygments_lexer": "ipython3",
   "version": "3.10.10"
  }
 },
 "nbformat": 4,
 "nbformat_minor": 5
}
