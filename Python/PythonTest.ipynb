{
 "cells": [
  {
   "cell_type": "code",
   "execution_count": 1,
   "id": "54d5ca7a",
   "metadata": {},
   "outputs": [],
   "source": [
    "import time"
   ]
  },
  {
   "cell_type": "code",
   "execution_count": 9,
   "id": "ef118f7d",
   "metadata": {},
   "outputs": [
    {
     "name": "stdout",
     "output_type": "stream",
     "text": [
      "1.7542634999845177 seconds\n"
     ]
    }
   ],
   "source": [
    "start_t = time.perf_counter()\n",
    "for i in range(0, 100_000_000):\n",
    "    pass\n",
    "print(time.perf_counter() - start_t, \"seconds\")"
   ]
  },
  {
   "cell_type": "code",
   "execution_count": 11,
   "id": "82d470d0",
   "metadata": {},
   "outputs": [
    {
     "name": "stdout",
     "output_type": "stream",
     "text": [
      "ID of process running main program: 10319\n",
      "Main thread name: MainThread\n",
      "Task 1 assigned to thread: t1\n",
      "ID of process running task 1: 10319\n",
      "Task 1 sleeping for 2 seconds\n",
      "Task 2 assigned to thread: t2\n",
      "ID of process running task 2: 10319\n",
      "Task 1 assigned to thread: t3\n",
      "ID of process running task 1: 10319\n",
      "Task 1 sleeping for 2 seconds\n",
      "2.8697605419438332 seconds\n",
      "All threads finished execution!\n"
     ]
    }
   ],
   "source": [
    "# Python program to illustrate the concept\n",
    "# of threading\n",
    "import threading\n",
    "import os\n",
    "# import sleep\n",
    "from time import sleep\n",
    "import time\n",
    "\n",
    "def task1():\n",
    "    print(\"Task 1 assigned to thread: {}\".format(threading.current_thread().name))\n",
    "    print(\"ID of process running task 1: {}\".format(os.getpid()))\n",
    "    print('Task 1 sleeping for 2 seconds')\n",
    "    for i in range(0, 100_000_000):\n",
    "        pass\n",
    "    # sleep(5)\n",
    "\n",
    "def task2():\n",
    "    print(\"Task 2 assigned to thread: {}\".format(threading.current_thread().name))\n",
    "    print(\"ID of process running task 2: {}\".format(os.getpid()))\n",
    "    for i in range(0, 100_000_000):\n",
    "        pass\n",
    "    # sleep(8)\n",
    "\n",
    "\n",
    "if __name__ == \"__main__\":\n",
    "\n",
    "    # print ID of current process\n",
    "    print(\"ID of process running main program: {}\".format(os.getpid()))\n",
    "\n",
    "    # print name of main thread\n",
    "    print(\"Main thread name: {}\".format(threading.current_thread().name))\n",
    "\n",
    "    # creating threads\n",
    "    t1 = threading.Thread(target=task1, name='t1')\n",
    "    t2 = threading.Thread(target=task2, name='t2')\n",
    "    t3 = threading.Thread(target=task1, name='t3')\n",
    "#     t4 = threading.Thread(target=task2, name='t4')\n",
    "#     t5 = threading.Thread(target=task1, name='t5')\n",
    "#     t6 = threading.Thread(target=task2, name='t6')\n",
    "#     t7 = threading.Thread(target=task1, name='t7')\n",
    "#     t8 = threading.Thread(target=task2, name='t8')\n",
    "#     t9 = threading.Thread(target=task1, name='t9')\n",
    "#     t10 = threading.Thread(target=task2, name='t10')\n",
    "\n",
    "\n",
    "    start_t = time.perf_counter()\n",
    "    # starting threads\n",
    "    t1.start()\n",
    "    t2.start()\n",
    "    t3.start()\n",
    "#     t4.start()\n",
    "#     t5.start()\n",
    "#     t6.start()\n",
    "#     t7.start()\n",
    "#     t8.start()\n",
    "#     t9.start()\n",
    "#     t10.start()\n",
    "\n",
    "    # wait until all threads finish\n",
    "    t1.join()\n",
    "    t2.join()\n",
    "    t3.join()\n",
    "#     t4.join()\n",
    "#     t5.join()\n",
    "#     t6.join()\n",
    "#     t7.join()\n",
    "#     t8.join()\n",
    "#     t9.join()\n",
    "#     t10.join()\n",
    "\n",
    "    print(time.perf_counter() - start_t, \"seconds\")\n",
    "\n",
    "    print(\"All threads finished execution!\")\n"
   ]
  },
  {
   "cell_type": "code",
   "execution_count": null,
   "id": "8043e5df",
   "metadata": {},
   "outputs": [],
   "source": []
  }
 ],
 "metadata": {
  "kernelspec": {
   "display_name": "Python 3 (ipykernel)",
   "language": "python",
   "name": "python3"
  },
  "language_info": {
   "codemirror_mode": {
    "name": "ipython",
    "version": 3
   },
   "file_extension": ".py",
   "mimetype": "text/x-python",
   "name": "python",
   "nbconvert_exporter": "python",
   "pygments_lexer": "ipython3",
   "version": "3.10.10"
  }
 },
 "nbformat": 4,
 "nbformat_minor": 5
}
