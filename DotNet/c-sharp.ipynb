{
 "cells": [
  {
   "cell_type": "code",
   "execution_count": 22,
   "id": "45899262-b67f-40f7-8a11-c4f44f1c3275",
   "metadata": {
    "tags": []
   },
   "outputs": [],
   "source": [
    "// Interface\n",
    "interface ITestMain {\n",
    "    public void B();\n",
    "}\n",
    "\n",
    "interface ITest : ITestMain {\n",
    "    public void A();\n",
    "}"
   ]
  },
  {
   "cell_type": "code",
   "execution_count": 41,
   "id": "e6bf2dc4-085b-4ce7-97b6-e2a02bc18e83",
   "metadata": {
    "tags": []
   },
   "outputs": [],
   "source": [
    "abstract class AbTest : ITest {\n",
    "    public void B() {\n",
    "        Console.WriteLine(\"Test B\");\n",
    "    }\n",
    "    public void A() {\n",
    "        Console.WriteLine(\"Test\");\n",
    "    }\n",
    "}\n",
    "\n",
    "interface ITest2 : ITest {\n",
    "    public void C();\n",
    "}"
   ]
  },
  {
   "cell_type": "code",
   "execution_count": null,
   "id": "923c585f-5ddc-497a-bfa0-ad0f7a6401e7",
   "metadata": {},
   "outputs": [],
   "source": []
  }
 ],
 "metadata": {
  "kernelspec": {
   "display_name": ".NET (C#)",
   "language": "C#",
   "name": ".net-csharp"
  },
  "language_info": {
   "file_extension": ".cs",
   "mimetype": "text/x-csharp",
   "name": "C#",
   "pygments_lexer": "csharp",
   "version": "11.0"
  }
 },
 "nbformat": 4,
 "nbformat_minor": 5
}
